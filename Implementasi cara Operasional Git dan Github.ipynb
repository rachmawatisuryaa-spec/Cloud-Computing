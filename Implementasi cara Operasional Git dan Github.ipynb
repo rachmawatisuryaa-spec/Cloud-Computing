{
 "cells": [
  {
   "cell_type": "markdown",
   "id": "37d8f74b-cbc8-4230-b1ea-d4dd823812f5",
   "metadata": {},
   "source": [
    "RACHMAWATI SURYA WARDANI - 1101230009"
   ]
  },
  {
   "cell_type": "markdown",
   "id": "59bd1613-413e-4eb7-a9bf-afd88a6333e1",
   "metadata": {},
   "source": [
    "Quiz 2 Cloud Computing TE - 05 - 01"
   ]
  },
  {
   "cell_type": "code",
   "execution_count": 2,
   "id": "7a22f8e3-a7e5-4616-885b-a829c664f3d2",
   "metadata": {},
   "outputs": [
    {
     "name": "stdout",
     "output_type": "stream",
     "text": [
      "Defaulting to user installation because normal site-packages is not writeableNote: you may need to restart the kernel to use updated packages.\n",
      "\n",
      "Requirement already satisfied: GitPython in d:\\anaconda\\lib\\site-packages (3.1.43)\n",
      "Requirement already satisfied: gitdb<5,>=4.0.1 in d:\\anaconda\\lib\\site-packages (from GitPython) (4.0.7)\n",
      "Requirement already satisfied: smmap<5,>=3.0.1 in d:\\anaconda\\lib\\site-packages (from gitdb<5,>=4.0.1->GitPython) (4.0.0)\n"
     ]
    }
   ],
   "source": [
    "pip install GitPython"
   ]
  },
  {
   "cell_type": "code",
   "execution_count": 4,
   "id": "6a9dba14-2dd5-45a6-abeb-76af652d3723",
   "metadata": {},
   "outputs": [
    {
     "name": "stdout",
     "output_type": "stream",
     "text": [
      "Repo berhasil dibuat di: contoh_repo\n",
      "Commit pertama berhasil!\n",
      "Pushing to GitHub is commented out. Please set up your GitHub repository and uncomment the push commands.\n"
     ]
    }
   ],
   "source": [
    "from git import Repo\n",
    "import os\n",
    "\n",
    "# 1. Path project lokal\n",
    "repo_path = \"contoh_repo\"\n",
    "github_url = \"https://github.com/rachmawatisuryaa-spec\"\n",
    "\n",
    "# 2. Inisialisasi repo\n",
    "repo = Repo.init(repo_path)\n",
    "print(\"Repo berhasil dibuat di:\", repo_path)\n",
    "\n",
    "# Change the current working directory to the repository path\n",
    "os.chdir(repo_path)\n",
    "\n",
    "# 3. Tambah file README\n",
    "readme_path = \"README.md\"\n",
    "with open(readme_path, \"w\") as f:\n",
    "    f.write(\"# Contoh Repo dari Python\\nDibuat otomatis pakai script Python!\")\n",
    "\n",
    "# 4. Add & Commit\n",
    "repo.index.add([readme_path])\n",
    "repo.index.commit(\"Initial commit via Python\")\n",
    "print(\"Commit pertama berhasil!\")\n",
    "\n",
    "print(\"Pushing to GitHub is commented out. Please set up your GitHub repository and uncomment the push commands.\")"
   ]
  }
 ],
 "metadata": {
  "kernelspec": {
   "display_name": "Python [conda env:base] *",
   "language": "python",
   "name": "conda-base-py"
  },
  "language_info": {
   "codemirror_mode": {
    "name": "ipython",
    "version": 3
   },
   "file_extension": ".py",
   "mimetype": "text/x-python",
   "name": "python",
   "nbconvert_exporter": "python",
   "pygments_lexer": "ipython3",
   "version": "3.12.7"
  }
 },
 "nbformat": 4,
 "nbformat_minor": 5
}
